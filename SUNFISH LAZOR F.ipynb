{
 "cells": [
  {
   "cell_type": "markdown",
   "id": "befd5036",
   "metadata": {},
   "source": [
    " Press Run: Enter a stock or crypto ticker symbol (from yahoo finance)\n",
    " \n",
    " peroid is : 1m,2m,5m,15m,30m,90m,1h,1d,5d,1wk\n",
    " \n",
    " Example Stocks: TSLA, AAPL , BTC-USD . \n",
    " "
   ]
  },
  {
   "cell_type": "code",
   "execution_count": 1,
   "id": "108d48e1",
   "metadata": {},
   "outputs": [
    {
     "name": "stdout",
     "output_type": "stream",
     "text": [
      "[*********************100%***********************]  1 of 1 completed\n"
     ]
    }
   ],
   "source": [
    "import yfinance as yf\n",
    "#stock_ticker = input(\"Enter a Stock Symbol:\")\n",
    "stock_ticker='doge-usd'\n",
    "df = yf.download(tickers=stock_ticker, period = '1wk', interval = '1m')"
   ]
  },
  {
   "cell_type": "markdown",
   "id": "400387af",
   "metadata": {},
   "source": [
    "This software is propreietary and copyrighted "
   ]
  },
  {
   "cell_type": "code",
   "execution_count": 2,
   "id": "11f02ce0",
   "metadata": {},
   "outputs": [
    {
     "name": "stdout",
     "output_type": "stream",
     "text": [
      "Current Time = 14:33:11\n"
     ]
    }
   ],
   "source": [
    "from datetime import datetime\n",
    "\n",
    "now = datetime.now()\n",
    "\n",
    "current_time = now.strftime(\"%H:%M:%S\")\n",
    "print(\"Current Time =\", current_time)"
   ]
  },
  {
   "cell_type": "code",
   "execution_count": 3,
   "id": "2af4c5ad",
   "metadata": {},
   "outputs": [],
   "source": [
    "import os\n",
    "import numpy as np\n",
    "import tensorflow as tf\n",
    "from tensorflow import keras\n",
    "import pandas as pd\n",
    "import seaborn as sns\n",
    "import torch\n",
    "\n",
    "import datetime as dt\n",
    "import pandas_datareader as pdr\n",
    "\n",
    "import yfinance as yf\n",
    "\n",
    "\n",
    "\n",
    "\n",
    "from pylab import rcParams\n",
    "import matplotlib.pyplot as plt\n",
    "from matplotlib import rc\n",
    "from sklearn.preprocessing import MinMaxScaler\n",
    "from tensorflow.keras.layers import Bidirectional, Dropout, Activation, Dense, LSTM\n",
    "from tensorflow.python.keras.layers import CuDNNLSTM\n",
    "from tensorflow.keras.models import Sequential \n",
    "from keras.layers import CuDNNLSTM\n",
    "\n",
    "data_history = []\n",
    "\n",
    "%matplotlib inline\n",
    "\n",
    "sns.set(style='whitegrid', palette='muted', font_scale=1.5)\n",
    "\n",
    "rcParams['figure.figsize'] = 14, 8\n",
    "\n",
    "RANDOM_SEED = 42\n",
    "\n",
    "np.random.seed(RANDOM_SEED)"
   ]
  },
  {
   "cell_type": "code",
   "execution_count": 4,
   "id": "8ca7a8e5",
   "metadata": {},
   "outputs": [],
   "source": [
    "#stock_ticker = input(\"Enter a Stock Symbol:\")\n",
    "#df = yf.download(tickers=stock_ticker, period = '1wk', interval = '1m')"
   ]
  },
  {
   "cell_type": "code",
   "execution_count": 5,
   "id": "73984a97",
   "metadata": {},
   "outputs": [
    {
     "name": "stdout",
     "output_type": "stream",
     "text": [
      "doge-usd\n"
     ]
    }
   ],
   "source": [
    "print(stock_ticker)"
   ]
  },
  {
   "cell_type": "code",
   "execution_count": 6,
   "id": "32dac424",
   "metadata": {},
   "outputs": [
    {
     "data": {
      "text/plain": [
       "(8861, 6)"
      ]
     },
     "execution_count": 6,
     "metadata": {},
     "output_type": "execute_result"
    }
   ],
   "source": [
    "df.head()\n",
    "df.shape"
   ]
  },
  {
   "cell_type": "code",
   "execution_count": 7,
   "id": "831a144d",
   "metadata": {},
   "outputs": [],
   "source": [
    "shift_days = 1  # IMPORTANT -shifts the prediction for 1 day into the future\n",
    "shift_steps = shift_days * 24  # predicts 24 hours into the future? if want 7 days then 24 x 7 \n",
    "df_targets = df.shift(-shift_steps)"
   ]
  },
  {
   "cell_type": "code",
   "execution_count": 8,
   "id": "667ff736",
   "metadata": {},
   "outputs": [
    {
     "data": {
      "text/html": [
       "<div>\n",
       "<style scoped>\n",
       "    .dataframe tbody tr th:only-of-type {\n",
       "        vertical-align: middle;\n",
       "    }\n",
       "\n",
       "    .dataframe tbody tr th {\n",
       "        vertical-align: top;\n",
       "    }\n",
       "\n",
       "    .dataframe thead th {\n",
       "        text-align: right;\n",
       "    }\n",
       "</style>\n",
       "<table border=\"1\" class=\"dataframe\">\n",
       "  <thead>\n",
       "    <tr style=\"text-align: right;\">\n",
       "      <th></th>\n",
       "      <th>Open</th>\n",
       "      <th>High</th>\n",
       "      <th>Low</th>\n",
       "      <th>Close</th>\n",
       "      <th>Adj Close</th>\n",
       "      <th>Volume</th>\n",
       "    </tr>\n",
       "    <tr>\n",
       "      <th>Datetime</th>\n",
       "      <th></th>\n",
       "      <th></th>\n",
       "      <th></th>\n",
       "      <th></th>\n",
       "      <th></th>\n",
       "      <th></th>\n",
       "    </tr>\n",
       "  </thead>\n",
       "  <tbody>\n",
       "    <tr>\n",
       "      <th>2022-04-13 19:34:00+00:00</th>\n",
       "      <td>0.140653</td>\n",
       "      <td>0.140653</td>\n",
       "      <td>0.140653</td>\n",
       "      <td>0.140653</td>\n",
       "      <td>0.140653</td>\n",
       "      <td>0</td>\n",
       "    </tr>\n",
       "    <tr>\n",
       "      <th>2022-04-13 19:35:00+00:00</th>\n",
       "      <td>0.140638</td>\n",
       "      <td>0.140638</td>\n",
       "      <td>0.140638</td>\n",
       "      <td>0.140638</td>\n",
       "      <td>0.140638</td>\n",
       "      <td>0</td>\n",
       "    </tr>\n",
       "    <tr>\n",
       "      <th>2022-04-13 19:36:00+00:00</th>\n",
       "      <td>0.140584</td>\n",
       "      <td>0.140584</td>\n",
       "      <td>0.140584</td>\n",
       "      <td>0.140584</td>\n",
       "      <td>0.140584</td>\n",
       "      <td>0</td>\n",
       "    </tr>\n",
       "    <tr>\n",
       "      <th>2022-04-13 19:37:00+00:00</th>\n",
       "      <td>0.140412</td>\n",
       "      <td>0.140412</td>\n",
       "      <td>0.140412</td>\n",
       "      <td>0.140412</td>\n",
       "      <td>0.140412</td>\n",
       "      <td>0</td>\n",
       "    </tr>\n",
       "    <tr>\n",
       "      <th>2022-04-13 19:38:00+00:00</th>\n",
       "      <td>0.140381</td>\n",
       "      <td>0.140381</td>\n",
       "      <td>0.140381</td>\n",
       "      <td>0.140381</td>\n",
       "      <td>0.140381</td>\n",
       "      <td>0</td>\n",
       "    </tr>\n",
       "    <tr>\n",
       "      <th>2022-04-13 19:39:00+00:00</th>\n",
       "      <td>0.140394</td>\n",
       "      <td>0.140394</td>\n",
       "      <td>0.140394</td>\n",
       "      <td>0.140394</td>\n",
       "      <td>0.140394</td>\n",
       "      <td>0</td>\n",
       "    </tr>\n",
       "    <tr>\n",
       "      <th>2022-04-13 19:40:00+00:00</th>\n",
       "      <td>0.140355</td>\n",
       "      <td>0.140355</td>\n",
       "      <td>0.140355</td>\n",
       "      <td>0.140355</td>\n",
       "      <td>0.140355</td>\n",
       "      <td>0</td>\n",
       "    </tr>\n",
       "    <tr>\n",
       "      <th>2022-04-13 19:41:00+00:00</th>\n",
       "      <td>0.140351</td>\n",
       "      <td>0.140351</td>\n",
       "      <td>0.140351</td>\n",
       "      <td>0.140351</td>\n",
       "      <td>0.140351</td>\n",
       "      <td>0</td>\n",
       "    </tr>\n",
       "    <tr>\n",
       "      <th>2022-04-13 19:42:00+00:00</th>\n",
       "      <td>0.140322</td>\n",
       "      <td>0.140322</td>\n",
       "      <td>0.140322</td>\n",
       "      <td>0.140322</td>\n",
       "      <td>0.140322</td>\n",
       "      <td>4096</td>\n",
       "    </tr>\n",
       "    <tr>\n",
       "      <th>2022-04-13 19:44:00+00:00</th>\n",
       "      <td>0.140233</td>\n",
       "      <td>0.140233</td>\n",
       "      <td>0.140233</td>\n",
       "      <td>0.140233</td>\n",
       "      <td>0.140233</td>\n",
       "      <td>0</td>\n",
       "    </tr>\n",
       "    <tr>\n",
       "      <th>2022-04-13 19:45:00+00:00</th>\n",
       "      <td>0.140242</td>\n",
       "      <td>0.140242</td>\n",
       "      <td>0.140242</td>\n",
       "      <td>0.140242</td>\n",
       "      <td>0.140242</td>\n",
       "      <td>21568</td>\n",
       "    </tr>\n",
       "    <tr>\n",
       "      <th>2022-04-13 19:47:00+00:00</th>\n",
       "      <td>0.140253</td>\n",
       "      <td>0.140253</td>\n",
       "      <td>0.140253</td>\n",
       "      <td>0.140253</td>\n",
       "      <td>0.140253</td>\n",
       "      <td>0</td>\n",
       "    </tr>\n",
       "    <tr>\n",
       "      <th>2022-04-13 19:48:00+00:00</th>\n",
       "      <td>0.140219</td>\n",
       "      <td>0.140219</td>\n",
       "      <td>0.140219</td>\n",
       "      <td>0.140219</td>\n",
       "      <td>0.140219</td>\n",
       "      <td>0</td>\n",
       "    </tr>\n",
       "    <tr>\n",
       "      <th>2022-04-13 19:49:00+00:00</th>\n",
       "      <td>0.140221</td>\n",
       "      <td>0.140221</td>\n",
       "      <td>0.140221</td>\n",
       "      <td>0.140221</td>\n",
       "      <td>0.140221</td>\n",
       "      <td>0</td>\n",
       "    </tr>\n",
       "    <tr>\n",
       "      <th>2022-04-13 19:50:00+00:00</th>\n",
       "      <td>0.140210</td>\n",
       "      <td>0.140210</td>\n",
       "      <td>0.140210</td>\n",
       "      <td>0.140210</td>\n",
       "      <td>0.140210</td>\n",
       "      <td>0</td>\n",
       "    </tr>\n",
       "    <tr>\n",
       "      <th>2022-04-13 19:52:00+00:00</th>\n",
       "      <td>0.140142</td>\n",
       "      <td>0.140142</td>\n",
       "      <td>0.140142</td>\n",
       "      <td>0.140142</td>\n",
       "      <td>0.140142</td>\n",
       "      <td>533440</td>\n",
       "    </tr>\n",
       "    <tr>\n",
       "      <th>2022-04-13 19:53:00+00:00</th>\n",
       "      <td>0.140139</td>\n",
       "      <td>0.140139</td>\n",
       "      <td>0.140139</td>\n",
       "      <td>0.140139</td>\n",
       "      <td>0.140139</td>\n",
       "      <td>31808</td>\n",
       "    </tr>\n",
       "    <tr>\n",
       "      <th>2022-04-13 19:54:00+00:00</th>\n",
       "      <td>0.140135</td>\n",
       "      <td>0.140135</td>\n",
       "      <td>0.140135</td>\n",
       "      <td>0.140135</td>\n",
       "      <td>0.140135</td>\n",
       "      <td>168576</td>\n",
       "    </tr>\n",
       "    <tr>\n",
       "      <th>2022-04-13 19:55:00+00:00</th>\n",
       "      <td>0.140098</td>\n",
       "      <td>0.140098</td>\n",
       "      <td>0.140098</td>\n",
       "      <td>0.140098</td>\n",
       "      <td>0.140098</td>\n",
       "      <td>104128</td>\n",
       "    </tr>\n",
       "    <tr>\n",
       "      <th>2022-04-13 19:56:00+00:00</th>\n",
       "      <td>0.140095</td>\n",
       "      <td>0.140095</td>\n",
       "      <td>0.140095</td>\n",
       "      <td>0.140095</td>\n",
       "      <td>0.140095</td>\n",
       "      <td>0</td>\n",
       "    </tr>\n",
       "    <tr>\n",
       "      <th>2022-04-13 19:57:00+00:00</th>\n",
       "      <td>0.140075</td>\n",
       "      <td>0.140075</td>\n",
       "      <td>0.140075</td>\n",
       "      <td>0.140075</td>\n",
       "      <td>0.140075</td>\n",
       "      <td>0</td>\n",
       "    </tr>\n",
       "    <tr>\n",
       "      <th>2022-04-13 19:58:00+00:00</th>\n",
       "      <td>0.140004</td>\n",
       "      <td>0.140004</td>\n",
       "      <td>0.140004</td>\n",
       "      <td>0.140004</td>\n",
       "      <td>0.140004</td>\n",
       "      <td>0</td>\n",
       "    </tr>\n",
       "    <tr>\n",
       "      <th>2022-04-13 19:59:00+00:00</th>\n",
       "      <td>0.139997</td>\n",
       "      <td>0.139997</td>\n",
       "      <td>0.139997</td>\n",
       "      <td>0.139997</td>\n",
       "      <td>0.139997</td>\n",
       "      <td>0</td>\n",
       "    </tr>\n",
       "    <tr>\n",
       "      <th>2022-04-13 20:00:00+00:00</th>\n",
       "      <td>0.139975</td>\n",
       "      <td>0.139975</td>\n",
       "      <td>0.139975</td>\n",
       "      <td>0.139975</td>\n",
       "      <td>0.139975</td>\n",
       "      <td>0</td>\n",
       "    </tr>\n",
       "    <tr>\n",
       "      <th>2022-04-13 20:01:00+00:00</th>\n",
       "      <td>0.139945</td>\n",
       "      <td>0.139945</td>\n",
       "      <td>0.139945</td>\n",
       "      <td>0.139945</td>\n",
       "      <td>0.139945</td>\n",
       "      <td>0</td>\n",
       "    </tr>\n",
       "    <tr>\n",
       "      <th>2022-04-13 20:02:00+00:00</th>\n",
       "      <td>0.139913</td>\n",
       "      <td>0.139913</td>\n",
       "      <td>0.139913</td>\n",
       "      <td>0.139913</td>\n",
       "      <td>0.139913</td>\n",
       "      <td>0</td>\n",
       "    </tr>\n",
       "    <tr>\n",
       "      <th>2022-04-13 20:03:00+00:00</th>\n",
       "      <td>0.139949</td>\n",
       "      <td>0.139949</td>\n",
       "      <td>0.139949</td>\n",
       "      <td>0.139949</td>\n",
       "      <td>0.139949</td>\n",
       "      <td>0</td>\n",
       "    </tr>\n",
       "    <tr>\n",
       "      <th>2022-04-13 20:04:00+00:00</th>\n",
       "      <td>0.140000</td>\n",
       "      <td>0.140000</td>\n",
       "      <td>0.140000</td>\n",
       "      <td>0.140000</td>\n",
       "      <td>0.140000</td>\n",
       "      <td>0</td>\n",
       "    </tr>\n",
       "    <tr>\n",
       "      <th>2022-04-13 20:05:00+00:00</th>\n",
       "      <td>0.139988</td>\n",
       "      <td>0.139988</td>\n",
       "      <td>0.139988</td>\n",
       "      <td>0.139988</td>\n",
       "      <td>0.139988</td>\n",
       "      <td>0</td>\n",
       "    </tr>\n",
       "  </tbody>\n",
       "</table>\n",
       "</div>"
      ],
      "text/plain": [
       "                               Open      High       Low     Close  Adj Close  \\\n",
       "Datetime                                                                       \n",
       "2022-04-13 19:34:00+00:00  0.140653  0.140653  0.140653  0.140653   0.140653   \n",
       "2022-04-13 19:35:00+00:00  0.140638  0.140638  0.140638  0.140638   0.140638   \n",
       "2022-04-13 19:36:00+00:00  0.140584  0.140584  0.140584  0.140584   0.140584   \n",
       "2022-04-13 19:37:00+00:00  0.140412  0.140412  0.140412  0.140412   0.140412   \n",
       "2022-04-13 19:38:00+00:00  0.140381  0.140381  0.140381  0.140381   0.140381   \n",
       "2022-04-13 19:39:00+00:00  0.140394  0.140394  0.140394  0.140394   0.140394   \n",
       "2022-04-13 19:40:00+00:00  0.140355  0.140355  0.140355  0.140355   0.140355   \n",
       "2022-04-13 19:41:00+00:00  0.140351  0.140351  0.140351  0.140351   0.140351   \n",
       "2022-04-13 19:42:00+00:00  0.140322  0.140322  0.140322  0.140322   0.140322   \n",
       "2022-04-13 19:44:00+00:00  0.140233  0.140233  0.140233  0.140233   0.140233   \n",
       "2022-04-13 19:45:00+00:00  0.140242  0.140242  0.140242  0.140242   0.140242   \n",
       "2022-04-13 19:47:00+00:00  0.140253  0.140253  0.140253  0.140253   0.140253   \n",
       "2022-04-13 19:48:00+00:00  0.140219  0.140219  0.140219  0.140219   0.140219   \n",
       "2022-04-13 19:49:00+00:00  0.140221  0.140221  0.140221  0.140221   0.140221   \n",
       "2022-04-13 19:50:00+00:00  0.140210  0.140210  0.140210  0.140210   0.140210   \n",
       "2022-04-13 19:52:00+00:00  0.140142  0.140142  0.140142  0.140142   0.140142   \n",
       "2022-04-13 19:53:00+00:00  0.140139  0.140139  0.140139  0.140139   0.140139   \n",
       "2022-04-13 19:54:00+00:00  0.140135  0.140135  0.140135  0.140135   0.140135   \n",
       "2022-04-13 19:55:00+00:00  0.140098  0.140098  0.140098  0.140098   0.140098   \n",
       "2022-04-13 19:56:00+00:00  0.140095  0.140095  0.140095  0.140095   0.140095   \n",
       "2022-04-13 19:57:00+00:00  0.140075  0.140075  0.140075  0.140075   0.140075   \n",
       "2022-04-13 19:58:00+00:00  0.140004  0.140004  0.140004  0.140004   0.140004   \n",
       "2022-04-13 19:59:00+00:00  0.139997  0.139997  0.139997  0.139997   0.139997   \n",
       "2022-04-13 20:00:00+00:00  0.139975  0.139975  0.139975  0.139975   0.139975   \n",
       "2022-04-13 20:01:00+00:00  0.139945  0.139945  0.139945  0.139945   0.139945   \n",
       "2022-04-13 20:02:00+00:00  0.139913  0.139913  0.139913  0.139913   0.139913   \n",
       "2022-04-13 20:03:00+00:00  0.139949  0.139949  0.139949  0.139949   0.139949   \n",
       "2022-04-13 20:04:00+00:00  0.140000  0.140000  0.140000  0.140000   0.140000   \n",
       "2022-04-13 20:05:00+00:00  0.139988  0.139988  0.139988  0.139988   0.139988   \n",
       "\n",
       "                           Volume  \n",
       "Datetime                           \n",
       "2022-04-13 19:34:00+00:00       0  \n",
       "2022-04-13 19:35:00+00:00       0  \n",
       "2022-04-13 19:36:00+00:00       0  \n",
       "2022-04-13 19:37:00+00:00       0  \n",
       "2022-04-13 19:38:00+00:00       0  \n",
       "2022-04-13 19:39:00+00:00       0  \n",
       "2022-04-13 19:40:00+00:00       0  \n",
       "2022-04-13 19:41:00+00:00       0  \n",
       "2022-04-13 19:42:00+00:00    4096  \n",
       "2022-04-13 19:44:00+00:00       0  \n",
       "2022-04-13 19:45:00+00:00   21568  \n",
       "2022-04-13 19:47:00+00:00       0  \n",
       "2022-04-13 19:48:00+00:00       0  \n",
       "2022-04-13 19:49:00+00:00       0  \n",
       "2022-04-13 19:50:00+00:00       0  \n",
       "2022-04-13 19:52:00+00:00  533440  \n",
       "2022-04-13 19:53:00+00:00   31808  \n",
       "2022-04-13 19:54:00+00:00  168576  \n",
       "2022-04-13 19:55:00+00:00  104128  \n",
       "2022-04-13 19:56:00+00:00       0  \n",
       "2022-04-13 19:57:00+00:00       0  \n",
       "2022-04-13 19:58:00+00:00       0  \n",
       "2022-04-13 19:59:00+00:00       0  \n",
       "2022-04-13 20:00:00+00:00       0  \n",
       "2022-04-13 20:01:00+00:00       0  \n",
       "2022-04-13 20:02:00+00:00       0  \n",
       "2022-04-13 20:03:00+00:00       0  \n",
       "2022-04-13 20:04:00+00:00       0  \n",
       "2022-04-13 20:05:00+00:00       0  "
      ]
     },
     "execution_count": 8,
     "metadata": {},
     "output_type": "execute_result"
    }
   ],
   "source": [
    "df.head(shift_steps + 5)"
   ]
  },
  {
   "cell_type": "code",
   "execution_count": 9,
   "id": "5da0aa61",
   "metadata": {},
   "outputs": [
    {
     "data": {
      "text/html": [
       "<div>\n",
       "<style scoped>\n",
       "    .dataframe tbody tr th:only-of-type {\n",
       "        vertical-align: middle;\n",
       "    }\n",
       "\n",
       "    .dataframe tbody tr th {\n",
       "        vertical-align: top;\n",
       "    }\n",
       "\n",
       "    .dataframe thead th {\n",
       "        text-align: right;\n",
       "    }\n",
       "</style>\n",
       "<table border=\"1\" class=\"dataframe\">\n",
       "  <thead>\n",
       "    <tr style=\"text-align: right;\">\n",
       "      <th></th>\n",
       "      <th>Open</th>\n",
       "      <th>High</th>\n",
       "      <th>Low</th>\n",
       "      <th>Close</th>\n",
       "      <th>Adj Close</th>\n",
       "      <th>Volume</th>\n",
       "    </tr>\n",
       "    <tr>\n",
       "      <th>Datetime</th>\n",
       "      <th></th>\n",
       "      <th></th>\n",
       "      <th></th>\n",
       "      <th></th>\n",
       "      <th></th>\n",
       "      <th></th>\n",
       "    </tr>\n",
       "  </thead>\n",
       "  <tbody>\n",
       "    <tr>\n",
       "      <th>2022-04-13 19:34:00+00:00</th>\n",
       "      <td>0.139945</td>\n",
       "      <td>0.139945</td>\n",
       "      <td>0.139945</td>\n",
       "      <td>0.139945</td>\n",
       "      <td>0.139945</td>\n",
       "      <td>0.0</td>\n",
       "    </tr>\n",
       "    <tr>\n",
       "      <th>2022-04-13 19:35:00+00:00</th>\n",
       "      <td>0.139913</td>\n",
       "      <td>0.139913</td>\n",
       "      <td>0.139913</td>\n",
       "      <td>0.139913</td>\n",
       "      <td>0.139913</td>\n",
       "      <td>0.0</td>\n",
       "    </tr>\n",
       "    <tr>\n",
       "      <th>2022-04-13 19:36:00+00:00</th>\n",
       "      <td>0.139949</td>\n",
       "      <td>0.139949</td>\n",
       "      <td>0.139949</td>\n",
       "      <td>0.139949</td>\n",
       "      <td>0.139949</td>\n",
       "      <td>0.0</td>\n",
       "    </tr>\n",
       "    <tr>\n",
       "      <th>2022-04-13 19:37:00+00:00</th>\n",
       "      <td>0.140000</td>\n",
       "      <td>0.140000</td>\n",
       "      <td>0.140000</td>\n",
       "      <td>0.140000</td>\n",
       "      <td>0.140000</td>\n",
       "      <td>0.0</td>\n",
       "    </tr>\n",
       "    <tr>\n",
       "      <th>2022-04-13 19:38:00+00:00</th>\n",
       "      <td>0.139988</td>\n",
       "      <td>0.139988</td>\n",
       "      <td>0.139988</td>\n",
       "      <td>0.139988</td>\n",
       "      <td>0.139988</td>\n",
       "      <td>0.0</td>\n",
       "    </tr>\n",
       "  </tbody>\n",
       "</table>\n",
       "</div>"
      ],
      "text/plain": [
       "                               Open      High       Low     Close  Adj Close  \\\n",
       "Datetime                                                                       \n",
       "2022-04-13 19:34:00+00:00  0.139945  0.139945  0.139945  0.139945   0.139945   \n",
       "2022-04-13 19:35:00+00:00  0.139913  0.139913  0.139913  0.139913   0.139913   \n",
       "2022-04-13 19:36:00+00:00  0.139949  0.139949  0.139949  0.139949   0.139949   \n",
       "2022-04-13 19:37:00+00:00  0.140000  0.140000  0.140000  0.140000   0.140000   \n",
       "2022-04-13 19:38:00+00:00  0.139988  0.139988  0.139988  0.139988   0.139988   \n",
       "\n",
       "                           Volume  \n",
       "Datetime                           \n",
       "2022-04-13 19:34:00+00:00     0.0  \n",
       "2022-04-13 19:35:00+00:00     0.0  \n",
       "2022-04-13 19:36:00+00:00     0.0  \n",
       "2022-04-13 19:37:00+00:00     0.0  \n",
       "2022-04-13 19:38:00+00:00     0.0  "
      ]
     },
     "execution_count": 9,
     "metadata": {},
     "output_type": "execute_result"
    }
   ],
   "source": [
    "df_targets.head(5)"
   ]
  },
  {
   "cell_type": "code",
   "execution_count": 10,
   "id": "05393483",
   "metadata": {},
   "outputs": [
    {
     "data": {
      "text/html": [
       "<div>\n",
       "<style scoped>\n",
       "    .dataframe tbody tr th:only-of-type {\n",
       "        vertical-align: middle;\n",
       "    }\n",
       "\n",
       "    .dataframe tbody tr th {\n",
       "        vertical-align: top;\n",
       "    }\n",
       "\n",
       "    .dataframe thead th {\n",
       "        text-align: right;\n",
       "    }\n",
       "</style>\n",
       "<table border=\"1\" class=\"dataframe\">\n",
       "  <thead>\n",
       "    <tr style=\"text-align: right;\">\n",
       "      <th></th>\n",
       "      <th>Open</th>\n",
       "      <th>High</th>\n",
       "      <th>Low</th>\n",
       "      <th>Close</th>\n",
       "      <th>Adj Close</th>\n",
       "      <th>Volume</th>\n",
       "    </tr>\n",
       "    <tr>\n",
       "      <th>Datetime</th>\n",
       "      <th></th>\n",
       "      <th></th>\n",
       "      <th></th>\n",
       "      <th></th>\n",
       "      <th></th>\n",
       "      <th></th>\n",
       "    </tr>\n",
       "  </thead>\n",
       "  <tbody>\n",
       "    <tr>\n",
       "      <th>2022-04-20 19:26:00+00:00</th>\n",
       "      <td>NaN</td>\n",
       "      <td>NaN</td>\n",
       "      <td>NaN</td>\n",
       "      <td>NaN</td>\n",
       "      <td>NaN</td>\n",
       "      <td>NaN</td>\n",
       "    </tr>\n",
       "    <tr>\n",
       "      <th>2022-04-20 19:27:00+00:00</th>\n",
       "      <td>NaN</td>\n",
       "      <td>NaN</td>\n",
       "      <td>NaN</td>\n",
       "      <td>NaN</td>\n",
       "      <td>NaN</td>\n",
       "      <td>NaN</td>\n",
       "    </tr>\n",
       "    <tr>\n",
       "      <th>2022-04-20 19:28:00+00:00</th>\n",
       "      <td>NaN</td>\n",
       "      <td>NaN</td>\n",
       "      <td>NaN</td>\n",
       "      <td>NaN</td>\n",
       "      <td>NaN</td>\n",
       "      <td>NaN</td>\n",
       "    </tr>\n",
       "    <tr>\n",
       "      <th>2022-04-20 19:29:00+00:00</th>\n",
       "      <td>NaN</td>\n",
       "      <td>NaN</td>\n",
       "      <td>NaN</td>\n",
       "      <td>NaN</td>\n",
       "      <td>NaN</td>\n",
       "      <td>NaN</td>\n",
       "    </tr>\n",
       "    <tr>\n",
       "      <th>2022-04-20 19:30:00+00:00</th>\n",
       "      <td>NaN</td>\n",
       "      <td>NaN</td>\n",
       "      <td>NaN</td>\n",
       "      <td>NaN</td>\n",
       "      <td>NaN</td>\n",
       "      <td>NaN</td>\n",
       "    </tr>\n",
       "  </tbody>\n",
       "</table>\n",
       "</div>"
      ],
      "text/plain": [
       "                           Open  High  Low  Close  Adj Close  Volume\n",
       "Datetime                                                            \n",
       "2022-04-20 19:26:00+00:00   NaN   NaN  NaN    NaN        NaN     NaN\n",
       "2022-04-20 19:27:00+00:00   NaN   NaN  NaN    NaN        NaN     NaN\n",
       "2022-04-20 19:28:00+00:00   NaN   NaN  NaN    NaN        NaN     NaN\n",
       "2022-04-20 19:29:00+00:00   NaN   NaN  NaN    NaN        NaN     NaN\n",
       "2022-04-20 19:30:00+00:00   NaN   NaN  NaN    NaN        NaN     NaN"
      ]
     },
     "execution_count": 10,
     "metadata": {},
     "output_type": "execute_result"
    }
   ],
   "source": [
    "df_targets.tail() # provides the last 5 entries of cleared data "
   ]
  },
  {
   "cell_type": "code",
   "execution_count": 11,
   "id": "2b5e85ee",
   "metadata": {},
   "outputs": [],
   "source": [
    "x_data = df.values[0:-shift_steps] #input singals "
   ]
  },
  {
   "cell_type": "code",
   "execution_count": 12,
   "id": "9319fd8b",
   "metadata": {},
   "outputs": [
    {
     "name": "stdout",
     "output_type": "stream",
     "text": [
      "<class 'numpy.ndarray'>\n",
      "Shape: (8837, 6)\n"
     ]
    }
   ],
   "source": [
    "print(type(x_data))\n",
    "print(\"Shape:\", x_data.shape)"
   ]
  },
  {
   "cell_type": "code",
   "execution_count": 13,
   "id": "2b79a8f2",
   "metadata": {},
   "outputs": [
    {
     "name": "stdout",
     "output_type": "stream",
     "text": [
      "<class 'numpy.ndarray'>\n",
      "Shape: (8837, 6)\n"
     ]
    }
   ],
   "source": [
    "y_data = df_targets.values[:-shift_steps] #output/target singals\n",
    "print(type(y_data))\n",
    "print(\"Shape:\", y_data.shape)"
   ]
  },
  {
   "cell_type": "code",
   "execution_count": 14,
   "id": "a945db0a",
   "metadata": {},
   "outputs": [
    {
     "data": {
      "text/plain": [
       "8837"
      ]
     },
     "execution_count": 14,
     "metadata": {},
     "output_type": "execute_result"
    }
   ],
   "source": [
    "#number of observations\n",
    "num_data = len(x_data) \n",
    "num_data"
   ]
  },
  {
   "cell_type": "code",
   "execution_count": 15,
   "id": "5464a7d5",
   "metadata": {},
   "outputs": [],
   "source": [
    "#This is the fraction of the data-set that will be used for the training-set:\n",
    "train_split = 0.9"
   ]
  },
  {
   "cell_type": "code",
   "execution_count": 16,
   "id": "6cbcb9ee",
   "metadata": {},
   "outputs": [
    {
     "data": {
      "text/plain": [
       "7953"
      ]
     },
     "execution_count": 16,
     "metadata": {},
     "output_type": "execute_result"
    }
   ],
   "source": [
    "#This is the number of observations in the training-set:\n",
    "num_train = int(train_split * num_data)\n",
    "num_train"
   ]
  },
  {
   "cell_type": "code",
   "execution_count": 17,
   "id": "630ca776",
   "metadata": {},
   "outputs": [
    {
     "data": {
      "text/plain": [
       "884"
      ]
     },
     "execution_count": 17,
     "metadata": {},
     "output_type": "execute_result"
    }
   ],
   "source": [
    "#This is the number of observations in the test-set:\n",
    "num_test = num_data - num_train\n",
    "num_test"
   ]
  },
  {
   "cell_type": "code",
   "execution_count": 18,
   "id": "f66664c3",
   "metadata": {},
   "outputs": [
    {
     "data": {
      "text/plain": [
       "8837"
      ]
     },
     "execution_count": 18,
     "metadata": {},
     "output_type": "execute_result"
    }
   ],
   "source": [
    "#These are the input-signals for the training- and test-sets:\n",
    "x_train = x_data[0:num_train]\n",
    "x_test = x_data[num_train:]\n",
    "len(x_train) + len(x_test)"
   ]
  },
  {
   "cell_type": "code",
   "execution_count": 19,
   "id": "3ed2753b",
   "metadata": {},
   "outputs": [
    {
     "data": {
      "text/plain": [
       "8837"
      ]
     },
     "execution_count": 19,
     "metadata": {},
     "output_type": "execute_result"
    }
   ],
   "source": [
    "#These are the output-signals for the training- and test-sets:\n",
    "y_train = y_data[0:num_train]\n",
    "y_test = y_data[num_train:]\n",
    "len(y_train) + len(y_test)"
   ]
  },
  {
   "cell_type": "code",
   "execution_count": 20,
   "id": "26486012",
   "metadata": {},
   "outputs": [
    {
     "data": {
      "text/plain": [
       "6"
      ]
     },
     "execution_count": 20,
     "metadata": {},
     "output_type": "execute_result"
    }
   ],
   "source": [
    "num_x_signals = x_data.shape[1] #This is the number of input-signals:  #IMPORTANT ? \n",
    "num_x_signals"
   ]
  },
  {
   "cell_type": "code",
   "execution_count": 21,
   "id": "96dcbe34",
   "metadata": {},
   "outputs": [
    {
     "data": {
      "text/plain": [
       "6"
      ]
     },
     "execution_count": 21,
     "metadata": {},
     "output_type": "execute_result"
    }
   ],
   "source": [
    "num_y_signals = y_data.shape[1] #This is the number of output-signals: #IMPORTANT ? \n",
    "num_y_signals"
   ]
  },
  {
   "cell_type": "code",
   "execution_count": 22,
   "id": "a33e68c9",
   "metadata": {},
   "outputs": [
    {
     "name": "stdout",
     "output_type": "stream",
     "text": [
      "Min: 0.0\n",
      "Max: 34455424.0\n"
     ]
    }
   ],
   "source": [
    "print(\"Min:\", np.min(x_train))\n",
    "print(\"Max:\", np.max(x_train))"
   ]
  },
  {
   "cell_type": "code",
   "execution_count": 23,
   "id": "cfe0e5bf",
   "metadata": {},
   "outputs": [],
   "source": [
    "x_scaler = MinMaxScaler()"
   ]
  },
  {
   "cell_type": "code",
   "execution_count": 24,
   "id": "9ee0f1a8",
   "metadata": {},
   "outputs": [],
   "source": [
    "x_train_scaled = x_scaler.fit_transform(x_train)"
   ]
  },
  {
   "cell_type": "code",
   "execution_count": 25,
   "id": "2875ad28",
   "metadata": {},
   "outputs": [
    {
     "name": "stdout",
     "output_type": "stream",
     "text": [
      "Min: 0.0\n",
      "Max: 1.0\n"
     ]
    }
   ],
   "source": [
    "print(\"Min:\", np.min(x_train_scaled))\n",
    "print(\"Max:\", np.max(x_train_scaled))"
   ]
  },
  {
   "cell_type": "code",
   "execution_count": 26,
   "id": "66ba48b6",
   "metadata": {},
   "outputs": [],
   "source": [
    "x_test_scaled = x_scaler.transform(x_test)"
   ]
  },
  {
   "cell_type": "code",
   "execution_count": 27,
   "id": "effa5cfc",
   "metadata": {},
   "outputs": [],
   "source": [
    "y_scaler = MinMaxScaler()\n",
    "y_train_scaled = y_scaler.fit_transform(y_train)\n",
    "y_test_scaled = y_scaler.transform(y_test)"
   ]
  },
  {
   "cell_type": "code",
   "execution_count": 28,
   "id": "eb5fc9bc",
   "metadata": {},
   "outputs": [
    {
     "name": "stdout",
     "output_type": "stream",
     "text": [
      "(7953, 6)\n",
      "(7953, 6)\n"
     ]
    }
   ],
   "source": [
    "print(x_train_scaled.shape)\n",
    "print(y_train_scaled.shape)"
   ]
  },
  {
   "cell_type": "code",
   "execution_count": 29,
   "id": "522c0aef",
   "metadata": {},
   "outputs": [],
   "source": [
    "def batch_generator(batch_size, sequence_length):\n",
    "    \"\"\"\n",
    "    Generator function for creating random batches of training-data.\n",
    "    \"\"\"\n",
    "\n",
    "    # Infinite loop.\n",
    "    while True:\n",
    "        # Allocate a new array for the batch of input-signals.\n",
    "        x_shape = (batch_size, sequence_length, num_x_signals)\n",
    "        x_batch = np.zeros(shape=x_shape, dtype=np.float16)\n",
    "\n",
    "        # Allocate a new array for the batch of output-signals.\n",
    "        y_shape = (batch_size, sequence_length, num_y_signals)\n",
    "        y_batch = np.zeros(shape=y_shape, dtype=np.float16)\n",
    "\n",
    "        # Fill the batch with random sequences of data.\n",
    "        for i in range(batch_size):\n",
    "            # Get a random start-index.\n",
    "            # This points somewhere into the training-data.\n",
    "            idx = np.random.randint(num_train - sequence_length)\n",
    "            \n",
    "            # Copy the sequences of data starting at this index.\n",
    "            x_batch[i] = x_train_scaled[idx:idx+sequence_length]\n",
    "            y_batch[i] = y_train_scaled[idx:idx+sequence_length]\n",
    "        \n",
    "        yield (x_batch, y_batch)\n",
    "\n",
    "\n",
    "batch_size = 256\n",
    "sequence_length = 2 * 7 * 8"
   ]
  },
  {
   "cell_type": "code",
   "execution_count": 30,
   "id": "c6fcfc33",
   "metadata": {},
   "outputs": [
    {
     "data": {
      "text/plain": [
       "<bound method Thread.join of <Thread(Thread-10, initial daemon)>>"
      ]
     },
     "execution_count": 30,
     "metadata": {},
     "output_type": "execute_result"
    }
   ],
   "source": [
    "\n",
    "import os\n",
    "import sys\n",
    "from contextlib import redirect_stdout\n",
    "import fileinput\n",
    "import threading\n",
    "from threading import Thread\n",
    "import multiprocessing\n",
    "from multiprocessing import Process\n",
    "import time\n",
    "\n",
    "\n",
    "process = []\n",
    "num_processes = os.cpu_count()\n",
    "for i in range(num_processes):\n",
    "    \n",
    " p1 = multiprocessing.Process(target= batch_generator(batch_size, sequence_length))\n",
    " p2 = multiprocessing.Process(target= batch_generator(batch_size, sequence_length))\n",
    " p3 = multiprocessing.Process(target= batch_generator(batch_size, sequence_length))\n",
    " p4 = multiprocessing.Process(target= batch_generator(batch_size, sequence_length))\n",
    "\n",
    "for p in process:\n",
    " p1.start(main())\n",
    " p2.start(main())\n",
    "\n",
    " p3.start(main())\n",
    " p4.start(main())\n",
    "\n",
    "for p in process:\n",
    " p1.join(main())\n",
    " p2.join(main())\n",
    " p3.join(main())\n",
    " p4.join(main())\n",
    "\n",
    "t = Thread(target = batch_generator(batch_size, sequence_length), daemon=True, args=())\n",
    "t2 = Thread(target = batch_generator(batch_size, sequence_length), daemon=True, args=())\n",
    "t.start\n",
    "t.join\n",
    "t2.start\n",
    "t2.join"
   ]
  },
  {
   "cell_type": "code",
   "execution_count": 31,
   "id": "74377e98",
   "metadata": {},
   "outputs": [],
   "source": [
    "generator = batch_generator(batch_size=batch_size,\n",
    "                            sequence_length=2 * 7 * 8)"
   ]
  },
  {
   "cell_type": "code",
   "execution_count": 32,
   "id": "79fc0d46",
   "metadata": {},
   "outputs": [],
   "source": [
    "x_batch, y_batch = next(generator)"
   ]
  },
  {
   "cell_type": "code",
   "execution_count": 33,
   "id": "75d63a4d",
   "metadata": {},
   "outputs": [
    {
     "name": "stdout",
     "output_type": "stream",
     "text": [
      "(256, 112, 6)\n",
      "(256, 112, 6)\n"
     ]
    }
   ],
   "source": [
    "print(x_batch.shape)\n",
    "print(y_batch.shape)"
   ]
  },
  {
   "cell_type": "code",
   "execution_count": 34,
   "id": "02369f1e",
   "metadata": {},
   "outputs": [
    {
     "data": {
      "text/plain": [
       "[<matplotlib.lines.Line2D at 0x28475f8c3a0>]"
      ]
     },
     "execution_count": 34,
     "metadata": {},
     "output_type": "execute_result"
    },
    {
     "data": {
      "image/png": "[encoded data removed]",
      "text/plain": [
       "<Figure size 1008x576 with 1 Axes>"
      ]
     },
     "metadata": {},
     "output_type": "display_data"
    }
   ],
   "source": [
    "batch = 0   # First sequence in the batch.\n",
    "signal = 0  # First signal from the 20 input-signals.\n",
    "seq = x_batch[batch, :, signal]\n",
    "plt.plot(seq)"
   ]
  },
  {
   "cell_type": "code",
   "execution_count": 35,
   "id": "12a71637",
   "metadata": {},
   "outputs": [
    {
     "data": {
      "text/plain": [
       "[<matplotlib.lines.Line2D at 0x28476683970>]"
      ]
     },
     "execution_count": 35,
     "metadata": {},
     "output_type": "execute_result"
    },
    {
     "data": {
      "image/png": "[encoded data removed]",
      "text/plain": [
       "<Figure size 1008x576 with 1 Axes>"
      ]
     },
     "metadata": {},
     "output_type": "display_data"
    }
   ],
   "source": [
    "seq = y_batch[batch, :, signal]\n",
    "plt.plot(seq)"
   ]
  },
  {
   "cell_type": "code",
   "execution_count": 36,
   "id": "3b36c657",
   "metadata": {},
   "outputs": [],
   "source": [
    "validation_data = (np.expand_dims(x_test_scaled, axis=0),\n",
    "                   np.expand_dims(y_test_scaled, axis=0))"
   ]
  },
  {
   "cell_type": "code",
   "execution_count": 37,
   "id": "b2738fa4",
   "metadata": {},
   "outputs": [],
   "source": [
    "from tensorflow.keras.models import Sequential \n",
    "\n",
    "from tensorflow.keras.layers import Dense\n",
    "from tensorflow.keras import optimizers\n",
    "from tensorflow.keras.layers import LSTM\n",
    "from tensorflow.keras.layers import GRU"
   ]
  },
  {
   "cell_type": "code",
   "execution_count": 38,
   "id": "a6bc6710",
   "metadata": {},
   "outputs": [
    {
     "data": {
      "text/plain": [
       "False"
      ]
     },
     "execution_count": 38,
     "metadata": {},
     "output_type": "execute_result"
    }
   ],
   "source": [
    "x_train_scaled.shape\n",
    "np.isnan(x_train_scaled).any()\n",
    "#x_train_scaled = x_train_scaled.reshape(-1, 1)  # added to try later for all?? "
   ]
  },
  {
   "cell_type": "code",
   "execution_count": 39,
   "id": "5767a99e",
   "metadata": {},
   "outputs": [
    {
     "data": {
      "text/plain": [
       "False"
      ]
     },
     "execution_count": 39,
     "metadata": {},
     "output_type": "execute_result"
    }
   ],
   "source": [
    "x_test_scaled.shape\n",
    "np.isnan(x_test_scaled).any()"
   ]
  },
  {
   "cell_type": "code",
   "execution_count": 40,
   "id": "b0ae8a21",
   "metadata": {},
   "outputs": [
    {
     "data": {
      "text/plain": [
       "False"
      ]
     },
     "execution_count": 40,
     "metadata": {},
     "output_type": "execute_result"
    }
   ],
   "source": [
    "y_train_scaled.shape\n",
    "np.isnan(y_train_scaled).any()"
   ]
  },
  {
   "cell_type": "code",
   "execution_count": 41,
   "id": "315f9f15",
   "metadata": {},
   "outputs": [
    {
     "data": {
      "text/plain": [
       "False"
      ]
     },
     "execution_count": 41,
     "metadata": {},
     "output_type": "execute_result"
    }
   ],
   "source": [
    "y_test_scaled.shape\n",
    "np.isnan(y_test_scaled.shape).any()"
   ]
  },
  {
   "cell_type": "code",
   "execution_count": 42,
   "id": "1d090c46",
   "metadata": {},
   "outputs": [],
   "source": [
    "scaler = MinMaxScaler()\n",
    "close_price = df.Close.values.reshape(-1, 1)\n",
    "scaled_close = scaler.fit_transform(close_price) #Fix this"
   ]
  },
  {
   "cell_type": "code",
   "execution_count": 43,
   "id": "7f296870",
   "metadata": {},
   "outputs": [],
   "source": [
    "SEQ_LEN = 100\n",
    "DROPOUT = 0.2\n",
    "DROPOUT2 = 0.4\n",
    "DROPOUT3 = 0.6\n",
    "WINDOW_SIZE = SEQ_LEN - 1\n",
    "\n",
    "model = keras.Sequential()\n",
    "\n",
    "model.add(Bidirectional(CuDNNLSTM(WINDOW_SIZE, return_sequences=True),\n",
    "                        input_shape=(num_x_signals, x_data.shape[-1])))\n",
    "model.add(Dropout(rate=DROPOUT))\n",
    "\n",
    "model.add(Bidirectional(CuDNNLSTM((WINDOW_SIZE * 2), return_sequences=True)))\n",
    "model.add(Dropout(rate=DROPOUT2))\n",
    "\n",
    "model.add(Bidirectional(CuDNNLSTM(WINDOW_SIZE, return_sequences=True)))\n",
    "model.add(Dropout(rate=DROPOUT3))\n",
    "#model.add(GRU(units=512,\n",
    "#              return_sequences=True,\n",
    "#              input_shape=(None, num_x_signals,)))\n",
    "\n",
    "\n",
    "#model.add(Dense(units=1))\n",
    "model.add(Dense(num_y_signals, activation='sigmoid'))\n",
    "#model.add(Activation('linear'))"
   ]
  },
  {
   "cell_type": "code",
   "execution_count": 44,
   "id": "8a93f83f",
   "metadata": {},
   "outputs": [],
   "source": [
    "if False:\n",
    "    from tensorflow.python.keras.initializers import RandomUniform\n",
    "\n",
    "    # Maybe use lower init-ranges.\n",
    "    init = RandomUniform(minval=-0.05, maxval=0.05)\n",
    "\n",
    "\n",
    "\n",
    "\n",
    "\n",
    "\n",
    "    model.add(Dense(num_y_signals,\n",
    "                    activation='linear',\n",
    "                    kernel_initializer=init))"
   ]
  },
  {
   "cell_type": "code",
   "execution_count": 45,
   "id": "0068ab55",
   "metadata": {},
   "outputs": [],
   "source": [
    "warmup_steps = 50"
   ]
  },
  {
   "cell_type": "code",
   "execution_count": 46,
   "id": "eed28478",
   "metadata": {},
   "outputs": [],
   "source": [
    "def loss_mse_warmup(y_true, y_pred):\n",
    "    \"\"\"\n",
    "    Calculate the Mean Squared Error between y_true and y_pred,\n",
    "    but ignore the beginning \"warmup\" part of the sequences.\n",
    "    \n",
    "    y_true is the desired output.\n",
    "    y_pred is the model's output.\n",
    "    \"\"\"\n",
    "\n",
    "    # The shape of both input tensors are:\n",
    "    # [batch_size, sequence_length, num_y_signals].\n",
    "\n",
    "    # Ignore the \"warmup\" parts of the sequences\n",
    "    # by taking slices of the tensors.\n",
    "    y_true_slice = y_true[:, warmup_steps:, :]\n",
    "    y_pred_slice = y_pred[:, warmup_steps:, :]\n",
    "\n",
    "    # These sliced tensors both have this shape:\n",
    "    # [batch_size, sequence_length - warmup_steps, num_y_signals]\n",
    "\n",
    "    # Calculat the Mean Squared Error and use it as loss.\n",
    "    mse = mean(square(y_true_slice - y_pred_slice))\n",
    "    \n",
    "    return mse"
   ]
  },
  {
   "cell_type": "code",
   "execution_count": 47,
   "id": "1b10d4ac",
   "metadata": {},
   "outputs": [],
   "source": [
    "BATCH_SIZE = 64\n",
    "\n"
   ]
  },
  {
   "cell_type": "code",
   "execution_count": 48,
   "id": "3742b9df",
   "metadata": {},
   "outputs": [],
   "source": [
    "model.compile(\n",
    "    loss='mean_squared_error', \n",
    "    optimizer='adam'\n",
    ")"
   ]
  },
  {
   "cell_type": "code",
   "execution_count": 49,
   "id": "3d0252c0",
   "metadata": {},
   "outputs": [],
   "source": [
    "from keras.callbacks import ReduceLROnPlateau\n",
    "from keras.callbacks import ModelCheckpoint, EarlyStopping, TensorBoard"
   ]
  },
  {
   "cell_type": "code",
   "execution_count": 50,
   "id": "c7691ca7",
   "metadata": {},
   "outputs": [
    {
     "name": "stdout",
     "output_type": "stream",
     "text": [
      "Model: \"sequential\"\n",
      "_________________________________________________________________\n",
      "Layer (type)                 Output Shape              Param #   \n",
      "=================================================================\n",
      "bidirectional (Bidirectional (None, 6, 198)            84744     \n",
      "_________________________________________________________________\n",
      "dropout (Dropout)            (None, 6, 198)            0         \n",
      "_________________________________________________________________\n",
      "bidirectional_1 (Bidirection (None, 6, 396)            630432    \n",
      "_________________________________________________________________\n",
      "dropout_1 (Dropout)          (None, 6, 396)            0         \n",
      "_________________________________________________________________\n",
      "bidirectional_2 (Bidirection (None, 6, 198)            393624    \n",
      "_________________________________________________________________\n",
      "dropout_2 (Dropout)          (None, 6, 198)            0         \n",
      "_________________________________________________________________\n",
      "dense (Dense)                (None, 6, 6)              1194      \n",
      "=================================================================\n",
      "Total params: 1,109,994\n",
      "Trainable params: 1,109,994\n",
      "Non-trainable params: 0\n",
      "_________________________________________________________________\n"
     ]
    }
   ],
   "source": [
    "model.build()\n",
    "model.summary()"
   ]
  },
  {
   "cell_type": "code",
   "execution_count": 51,
   "id": "bb333ff8",
   "metadata": {},
   "outputs": [],
   "source": [
    "path_checkpoint = '23_checkpoint.keras'\n",
    "callback_checkpoint = ModelCheckpoint(filepath=path_checkpoint,\n",
    "                                      monitor='val_loss',\n",
    "                                      verbose=1,\n",
    "                                      save_weights_only=True,\n",
    "                                      save_best_only=True)"
   ]
  },
  {
   "cell_type": "code",
   "execution_count": 52,
   "id": "1fa49269",
   "metadata": {},
   "outputs": [],
   "source": [
    "callback_early_stopping = EarlyStopping(monitor='val_loss',\n",
    "                                        patience=5, verbose=1)"
   ]
  },
  {
   "cell_type": "code",
   "execution_count": 53,
   "id": "c4b9d0ef",
   "metadata": {},
   "outputs": [],
   "source": [
    "callback_tensorboard = TensorBoard(log_dir='./23_logs/',\n",
    "                                   histogram_freq=0,\n",
    "                                   write_graph=False)"
   ]
  },
  {
   "cell_type": "code",
   "execution_count": 54,
   "id": "b60cfff0",
   "metadata": {},
   "outputs": [],
   "source": [
    "callback_reduce_lr = ReduceLROnPlateau(monitor='val_loss',\n",
    "                                       factor=0.1,\n",
    "                                       min_lr=1e-4,\n",
    "                                       patience=0,\n",
    "                                       verbose=1)"
   ]
  },
  {
   "cell_type": "code",
   "execution_count": 55,
   "id": "93e39032",
   "metadata": {},
   "outputs": [],
   "source": [
    "callbacks = [callback_early_stopping,\n",
    "             callback_checkpoint,\n",
    "             callback_tensorboard,\n",
    "             callback_reduce_lr]"
   ]
  },
  {
   "cell_type": "code",
   "execution_count": 56,
   "id": "cb27e616",
   "metadata": {},
   "outputs": [
    {
     "name": "stdout",
     "output_type": "stream",
     "text": [
      "Epoch 1/20\n",
      "100/100 [==============================] - ETA: 0s - loss: 0.0090WARNING:tensorflow:Model was constructed with shape (None, 6, 6) for input KerasTensor(type_spec=TensorSpec(shape=(None, 6, 6), dtype=tf.float32, name='bidirectional_input'), name='bidirectional_input', description=\"created by layer 'bidirectional_input'\"), but it was called on an input with incompatible shape (None, 884, 6).\n",
      "100/100 [==============================] - 23s 172ms/step - loss: 0.0090 - val_loss: 0.0012\n",
      "\n",
      "Epoch 00001: val_loss improved from inf to 0.00125, saving model to 23_checkpoint.keras\n",
      "Epoch 2/20\n",
      "100/100 [==============================] - 16s 160ms/step - loss: 0.0024 - val_loss: 5.5038e-04\n",
      "\n",
      "Epoch 00002: val_loss improved from 0.00125 to 0.00055, saving model to 23_checkpoint.keras\n",
      "Epoch 3/20\n",
      "100/100 [==============================] - 16s 162ms/step - loss: 0.0015 - val_loss: 4.3850e-04\n",
      "\n",
      "Epoch 00003: val_loss improved from 0.00055 to 0.00044, saving model to 23_checkpoint.keras\n",
      "Epoch 4/20\n",
      "100/100 [==============================] - 17s 165ms/step - loss: 0.0012 - val_loss: 3.8917e-04\n",
      "\n",
      "Epoch 00004: val_loss improved from 0.00044 to 0.00039, saving model to 23_checkpoint.keras\n",
      "\n",
      "Epoch 00004: ReduceLROnPlateau reducing learning rate to 0.00010000000474974513.\n",
      "Epoch 5/20\n",
      "100/100 [==============================] - 16s 164ms/step - loss: 0.0010 - val_loss: 3.7217e-04\n",
      "\n",
      "Epoch 00005: val_loss improved from 0.00039 to 0.00037, saving model to 23_checkpoint.keras\n",
      "\n",
      "Epoch 00005: ReduceLROnPlateau reducing learning rate to 0.0001.\n",
      "Epoch 6/20\n",
      "100/100 [==============================] - 16s 161ms/step - loss: 0.0010 - val_loss: 3.5393e-04\n",
      "\n",
      "Epoch 00006: val_loss improved from 0.00037 to 0.00035, saving model to 23_checkpoint.keras\n",
      "Epoch 7/20\n",
      "100/100 [==============================] - 16s 163ms/step - loss: 9.8843e-04 - val_loss: 3.6531e-04\n",
      "\n",
      "Epoch 00007: val_loss did not improve from 0.00035\n",
      "Epoch 8/20\n",
      "100/100 [==============================] - 16s 162ms/step - loss: 9.9358e-04 - val_loss: 3.5405e-04\n",
      "\n",
      "Epoch 00008: val_loss did not improve from 0.00035\n",
      "Epoch 9/20\n",
      "100/100 [==============================] - 16s 162ms/step - loss: 9.7011e-04 - val_loss: 3.5675e-04\n",
      "\n",
      "Epoch 00009: val_loss did not improve from 0.00035\n",
      "Epoch 10/20\n",
      "100/100 [==============================] - 16s 161ms/step - loss: 9.4540e-04 - val_loss: 3.4419e-04\n",
      "\n",
      "Epoch 00010: val_loss improved from 0.00035 to 0.00034, saving model to 23_checkpoint.keras\n",
      "Epoch 11/20\n",
      "100/100 [==============================] - 16s 162ms/step - loss: 9.4377e-04 - val_loss: 3.3876e-04\n",
      "\n",
      "Epoch 00011: val_loss improved from 0.00034 to 0.00034, saving model to 23_checkpoint.keras\n",
      "Epoch 12/20\n",
      "100/100 [==============================] - 16s 163ms/step - loss: 9.2364e-04 - val_loss: 3.4314e-04\n",
      "\n",
      "Epoch 00012: val_loss did not improve from 0.00034\n",
      "Epoch 13/20\n",
      "100/100 [==============================] - 16s 165ms/step - loss: 9.0249e-04 - val_loss: 3.2501e-04\n",
      "\n",
      "Epoch 00013: val_loss improved from 0.00034 to 0.00033, saving model to 23_checkpoint.keras\n",
      "Epoch 14/20\n",
      "100/100 [==============================] - 17s 166ms/step - loss: 9.0430e-04 - val_loss: 3.2252e-04\n",
      "\n",
      "Epoch 00014: val_loss improved from 0.00033 to 0.00032, saving model to 23_checkpoint.keras\n",
      "Epoch 15/20\n",
      "100/100 [==============================] - 17s 165ms/step - loss: 8.8315e-04 - val_loss: 3.2064e-04\n",
      "\n",
      "Epoch 00015: val_loss improved from 0.00032 to 0.00032, saving model to 23_checkpoint.keras\n",
      "Epoch 16/20\n",
      "100/100 [==============================] - 17s 166ms/step - loss: 8.7495e-04 - val_loss: 3.2317e-04\n",
      "\n",
      "Epoch 00016: val_loss did not improve from 0.00032\n",
      "Epoch 17/20\n",
      "100/100 [==============================] - 17s 165ms/step - loss: 8.5331e-04 - val_loss: 3.2704e-04\n",
      "\n",
      "Epoch 00017: val_loss did not improve from 0.00032\n",
      "Epoch 18/20\n",
      "100/100 [==============================] - 17s 165ms/step - loss: 8.5263e-04 - val_loss: 3.2694e-04\n",
      "\n",
      "Epoch 00018: val_loss did not improve from 0.00032\n",
      "Epoch 19/20\n",
      "100/100 [==============================] - 17s 165ms/step - loss: 8.3048e-04 - val_loss: 3.1775e-04\n",
      "\n",
      "Epoch 00019: val_loss improved from 0.00032 to 0.00032, saving model to 23_checkpoint.keras\n",
      "Epoch 20/20\n",
      "100/100 [==============================] - 16s 165ms/step - loss: 8.2670e-04 - val_loss: 3.2673e-04\n",
      "\n",
      "Epoch 00020: val_loss did not improve from 0.00032\n",
      "Wall time: 5min 33s\n"
     ]
    }
   ],
   "source": [
    "%%time\n",
    "history = model.fit(x=generator,\n",
    "          epochs=20,\n",
    "          steps_per_epoch=100,\n",
    "          validation_data=validation_data,\n",
    "          callbacks=callbacks)"
   ]
  },
  {
   "cell_type": "code",
   "execution_count": 57,
   "id": "fe778aab",
   "metadata": {},
   "outputs": [],
   "source": [
    "try:\n",
    "    model.load_weights(path_checkpoint)\n",
    "except Exception as error:\n",
    "    print(\"Error trying to load checkpoint.\")\n",
    "    print(error)"
   ]
  },
  {
   "cell_type": "code",
   "execution_count": 58,
   "id": "22a4cc9c",
   "metadata": {},
   "outputs": [
    {
     "name": "stdout",
     "output_type": "stream",
     "text": [
      "1/1 [==============================] - 0s 25ms/step - loss: 3.1775e-04\n"
     ]
    }
   ],
   "source": [
    "result = model.evaluate\n",
    "\n",
    "result = model.evaluate(x=np.expand_dims(x_test_scaled, axis=0),\n",
    "                        y=np.expand_dims(y_test_scaled, axis=0))"
   ]
  },
  {
   "cell_type": "code",
   "execution_count": 59,
   "id": "9b3de5c2",
   "metadata": {},
   "outputs": [
    {
     "name": "stdout",
     "output_type": "stream",
     "text": [
      "loss (test-set): 0.00031774555100128055\n"
     ]
    }
   ],
   "source": [
    "print(\"loss (test-set):\", result)"
   ]
  },
  {
   "cell_type": "code",
   "execution_count": 60,
   "id": "5a5c588a",
   "metadata": {},
   "outputs": [],
   "source": [
    "# If you have several metrics you can use this instead.\n",
    "if False:\n",
    "    for res, metric in zip(result, model.metrics_names):\n",
    "        print(\"{0}: {1:.3e}\".format(metric, res))"
   ]
  },
  {
   "cell_type": "code",
   "execution_count": 61,
   "id": "dc4bc9e0",
   "metadata": {},
   "outputs": [],
   "source": [
    "def generate_predictions(start_idx, length=100, train=False,forecast = False):\n",
    "    \n",
    "    \n",
    "    if forecast:\n",
    "        x = x_test_scaled.copy()\n",
    "    \n",
    "    elif train:\n",
    "        # Use training-data.\n",
    "        x = x_train_scaled\n",
    "        y_true = y_train\n",
    "    else:\n",
    "        # Use test-data.\n",
    "        x = x_test_scaled\n",
    "        y_true = y_test\n",
    "    \n",
    "    # End-index for the sequences.\n",
    "    end_idx = start_idx + length\n",
    "    \n",
    "    # Select the sequences from the given start-index and\n",
    "    # of the given length.\n",
    "    \n",
    "    if forecast:\n",
    "        x = x[start_idx:end_idx]\n",
    "        \n",
    "    else:\n",
    "        x = x[start_idx:end_idx]\n",
    "        y_true = y_true[start_idx:end_idx]\n",
    "    \n",
    "    # Input-signals for the model.\n",
    "    x = np.expand_dims(x, axis=0)\n",
    "\n",
    "    # Use the model to predict the output-signals.\n",
    "    y_pred = model.predict(x)\n",
    "    \n",
    "    # The output of the model is between 0 and 1.\n",
    "    # Do an inverse map to get it back to the scale\n",
    "    # of the original data-set.\n",
    "    y_pred_rescaled = y_scaler.inverse_transform(y_pred[0])\n",
    "    \n",
    "    pred_dict = {i: None for i in target_names} \n",
    "    \n",
    "    \n",
    "    # For each output-signal.\n",
    "    for signal in range(len(target_names)):\n",
    "        # Get the output-signal predicted by the model.\n",
    "        signal_pred = y_pred_rescaled[:, signal]\n",
    "        pred_dict[target_names[signal]] = signal_pred\n",
    "        \n",
    "    return pred_dict\n",
    "\n",
    "\n",
    "#signal_pred, label='pred')\n",
    "         # plt.plot(signal_true, label='true',marker=r'$\\uparrow$')\n",
    "         # plt.plot(signal_pred, label='pred',marker='$\\downarrow$')\n",
    "\n",
    "        # Plot grey box for warmup-period.\n"
   ]
  },
  {
   "cell_type": "code",
   "execution_count": 62,
   "id": "20b71cfa",
   "metadata": {},
   "outputs": [
    {
     "name": "stdout",
     "output_type": "stream",
     "text": [
      "WARNING:tensorflow:Model was constructed with shape (None, 6, 6) for input KerasTensor(type_spec=TensorSpec(shape=(None, 6, 6), dtype=tf.float32, name='bidirectional_input'), name='bidirectional_input', description=\"created by layer 'bidirectional_input'\"), but it was called on an input with incompatible shape (None, 7953, 6).\n"
     ]
    }
   ],
   "source": [
    "target_names = ['x','y','z']\n",
    "\n",
    "pred_dict = generate_predictions(start_idx=0, length=10000, train=True, forecast = False)"
   ]
  },
  {
   "cell_type": "code",
   "execution_count": null,
   "id": "7266803d-a1ca-4c53-bb8b-91504d0364d9",
   "metadata": {},
   "outputs": [],
   "source": []
  },
  {
   "cell_type": "code",
   "execution_count": 63,
   "id": "c3ec1f4d",
   "metadata": {},
   "outputs": [],
   "source": [
    "from matplotlib.animation import FuncAnimation\n",
    "import mplfinance as mpf"
   ]
  },
  {
   "cell_type": "code",
   "execution_count": 64,
   "id": "db1ae35c",
   "metadata": {},
   "outputs": [],
   "source": [
    "\n",
    "\n",
    "def plot_comparison(start_idx, length=100, train=False,forecast = True):\n",
    "    \"\"\"\n",
    "    Plot the predicted and true output-signals.\n",
    "    \n",
    "    :param start_idx: Start-index for the time-series.\n",
    "    :param length: Sequence-length to process and plot.\n",
    "    :param train: Boolean whether to use training- or test-set.\n",
    "    \"\"\"\n",
    "    \n",
    "    if forecast:\n",
    "        x = x_test_scaled.copy()\n",
    "    \n",
    "    elif train:\n",
    "        # Use training-data.\n",
    "        x = x_train_scaled\n",
    "        y_true = y_train\n",
    "    else:\n",
    "        # Use test-data.\n",
    "        x = x_test_scaled\n",
    "        y_true = y_test\n",
    "    \n",
    "    # End-index for the sequences.\n",
    "    end_idx = start_idx + length\n",
    "    \n",
    "    # Select the sequences from the given start-index and\n",
    "    # of the given length.\n",
    "    \n",
    "    if forecast:\n",
    "        x = x[start_idx:end_idx]\n",
    "        \n",
    "    else:\n",
    "        x = x[start_idx:end_idx]\n",
    "        y_true = y_true[start_idx:end_idx]\n",
    "    \n",
    "    # Input-signals for the model.\n",
    "    x = np.expand_dims(x, axis=0)\n",
    "\n",
    "    # Use the model to predict the output-signals.\n",
    "    y_pred = model.predict(x)\n",
    "    \n",
    "    # The output of the model is between 0 and 1.\n",
    "    # Do an inverse map to get it back to the scale\n",
    "    # of the original data-set.\n",
    "    y_pred_rescaled = y_scaler.inverse_transform(y_pred[0])\n",
    "    \n",
    "    pred_dict = {i: None for i in target_names} \n",
    "    \n",
    "    # For each output-signal.\n",
    "    for signal in range(len(target_names)):\n",
    "        # Get the output-signal predicted by the model.\n",
    "        signal_pred = y_pred_rescaled[:, signal]\n",
    "        pred_dict[target_names[signal]] = signal_pred\n",
    "        if forecast == True:\n",
    "            # Get the true output-signal from the data-set.\n",
    "            signal_true = y_true[:, signal]\n",
    "\n",
    "        # Make the plotting-canvas bigger.\n",
    "        plt.figure(figsize=(15,5))\n",
    "        \n",
    "        if forecast == False:\n",
    "       \n",
    "         fig, ax = plt.subplots()    \n",
    "            # Plot and compare the two signals.\n",
    "        plt.plot(signal_true, label='true',marker='.')\n",
    "\n",
    "        plt.plot(signal_pred, label='pred')\n",
    "         # plt.plot(signal_true, label='true',marker=r'$\\uparrow$')\n",
    "         # plt.plot(signal_pred, label='pred',marker='$\\downarrow$')\n",
    "\n",
    "        # Plot grey box for warmup-period.\n",
    "        p = plt.axvspan(0, warmup_steps, facecolor='black', alpha=0.15)\n",
    "        \n",
    "        # Plot labels etc.\n",
    "        plt.ylabel(target_names[signal])\n",
    "        \n",
    "        plt.legend()\n",
    "        plt.show()\n",
    "     \n",
    "        \n",
    "        \n",
    "\n",
    "\n",
    "    def plot_utm(): #tech deb can be removed\n",
    "        sbpt_1 = fig.add_subplot() \n",
    "        content.plot (color = '#3BB9FF', ax = sbpt_1)\n",
    "        display.draw_idle()\n",
    "    \n",
    "    #def plot_tm():\n",
    "     #   sbpt_2 = fig.add_subplot()\n",
    "     #   shp_TM.plot(color = '#4CC417', ax = sbpt_2)\n",
    "     #   display.draw_idle()\n",
    "    \n",
    "  #  def plot_om():\n",
    "      #  sbpt_3 = fig.add_subplot()\n",
    "      #  shp_TMOM.plot(color = '#FFA62F', ax = sbpt_3)\n",
    "      \n",
    "    \n",
    "\n",
    "        \n",
    "        ani = FuncAnimation(signal_true, signal_true, blit=True) #tech deb can be removed \n",
    "        return signal \n",
    "  "
   ]
  },
  {
   "cell_type": "markdown",
   "id": "74547fde",
   "metadata": {},
   "source": [
    "To model:1. Get the current stock price. \n",
    "         2. Modify the start_idx value until the shape of the model matches the current price ( in the gray box). "
   ]
  },
  {
   "cell_type": "code",
   "execution_count": 65,
   "id": "3b406522",
   "metadata": {},
   "outputs": [
    {
     "name": "stdout",
     "output_type": "stream",
     "text": [
      "WARNING:tensorflow:Model was constructed with shape (None, 6, 6) for input KerasTensor(type_spec=TensorSpec(shape=(None, 6, 6), dtype=tf.float32, name='bidirectional_input'), name='bidirectional_input', description=\"created by layer 'bidirectional_input'\"), but it was called on an input with incompatible shape (None, 884, 6).\n"
     ]
    },
    {
     "ename": "UnboundLocalError",
     "evalue": "local variable 'y_true' referenced before assignment",
     "output_type": "error",
     "traceback": [
      "\u001b[1;31m---------------------------------------------------------------------------\u001b[0m",
      "\u001b[1;31mUnboundLocalError\u001b[0m                         Traceback (most recent call last)",
      "\u001b[1;32m~\\AppData\\Local\\Temp/ipykernel_11392/1244661392.py\u001b[0m in \u001b[0;36m<module>\u001b[1;34m\u001b[0m\n\u001b[1;32m----> 1\u001b[1;33m \u001b[0mplot_comparison\u001b[0m\u001b[1;33m(\u001b[0m\u001b[0mstart_idx\u001b[0m\u001b[1;33m=\u001b[0m\u001b[1;36m0\u001b[0m\u001b[1;33m,\u001b[0m \u001b[0mlength\u001b[0m\u001b[1;33m=\u001b[0m\u001b[1;36m10000\u001b[0m\u001b[1;33m,\u001b[0m \u001b[0mtrain\u001b[0m\u001b[1;33m=\u001b[0m\u001b[1;32mTrue\u001b[0m\u001b[1;33m,\u001b[0m \u001b[0mforecast\u001b[0m \u001b[1;33m=\u001b[0m \u001b[1;32mTrue\u001b[0m\u001b[1;33m)\u001b[0m\u001b[1;33m\u001b[0m\u001b[1;33m\u001b[0m\u001b[0m\n\u001b[0m",
      "\u001b[1;32m~\\AppData\\Local\\Temp/ipykernel_11392/3449727112.py\u001b[0m in \u001b[0;36mplot_comparison\u001b[1;34m(start_idx, length, train, forecast)\u001b[0m\n\u001b[0;32m     53\u001b[0m         \u001b[1;32mif\u001b[0m \u001b[0mforecast\u001b[0m \u001b[1;33m==\u001b[0m \u001b[1;32mTrue\u001b[0m\u001b[1;33m:\u001b[0m\u001b[1;33m\u001b[0m\u001b[1;33m\u001b[0m\u001b[0m\n\u001b[0;32m     54\u001b[0m             \u001b[1;31m# Get the true output-signal from the data-set.\u001b[0m\u001b[1;33m\u001b[0m\u001b[1;33m\u001b[0m\u001b[0m\n\u001b[1;32m---> 55\u001b[1;33m             \u001b[0msignal_true\u001b[0m \u001b[1;33m=\u001b[0m \u001b[0my_true\u001b[0m\u001b[1;33m[\u001b[0m\u001b[1;33m:\u001b[0m\u001b[1;33m,\u001b[0m \u001b[0msignal\u001b[0m\u001b[1;33m]\u001b[0m\u001b[1;33m\u001b[0m\u001b[1;33m\u001b[0m\u001b[0m\n\u001b[0m\u001b[0;32m     56\u001b[0m \u001b[1;33m\u001b[0m\u001b[0m\n\u001b[0;32m     57\u001b[0m         \u001b[1;31m# Make the plotting-canvas bigger.\u001b[0m\u001b[1;33m\u001b[0m\u001b[1;33m\u001b[0m\u001b[0m\n",
      "\u001b[1;31mUnboundLocalError\u001b[0m: local variable 'y_true' referenced before assignment"
     ]
    }
   ],
   "source": [
    "plot_comparison(start_idx=0, length=10000, train=True, forecast = True)"
   ]
  },
  {
   "cell_type": "code",
   "execution_count": null,
   "id": "6f9b43f2",
   "metadata": {},
   "outputs": [],
   "source": [
    "plot_comparison(start_idx=0, length=10000, train=False, forecast = False)"
   ]
  },
  {
   "cell_type": "code",
   "execution_count": null,
   "id": "f523fc5e",
   "metadata": {},
   "outputs": [],
   "source": [
    "plot_comparison(start_idx=0, length=10000, train=True, forecast = False)"
   ]
  },
  {
   "cell_type": "code",
   "execution_count": null,
   "id": "18efb56c",
   "metadata": {},
   "outputs": [],
   "source": [
    "plot_comparison(start_idx=0, length=10000, train=False, forecast = True)"
   ]
  },
  {
   "cell_type": "code",
   "execution_count": null,
   "id": "96e3483a",
   "metadata": {},
   "outputs": [],
   "source": [
    "plt.plot(history.history['loss'])\n",
    "plt.plot(history.history['val_loss'])\n",
    "plt.title('model loss')\n",
    "plt.ylabel('loss')\n",
    "plt.xlabel('epoch')\n",
    "plt.legend(['train', 'test'], loc='upper left')\n",
    "plt.show()"
   ]
  },
  {
   "cell_type": "code",
   "execution_count": null,
   "id": "182a40fe",
   "metadata": {},
   "outputs": [],
   "source": []
  },
  {
   "cell_type": "code",
   "execution_count": null,
   "id": "de5214b4",
   "metadata": {},
   "outputs": [],
   "source": [
    "from matplotlib.animation import FuncAnimation\n",
    "from matplotlib import style\n",
    "%matplotlib nbagg\n",
    "style.use('fivethirtyeight')\n",
    "fig = plt.figure()\n",
    "\n",
    "ax1 = fig.add_subplot(1,1,1)\n",
    "\n",
    "\n",
    "def animate(i):\n",
    "    df = yf.download(tickers=stock_ticker, period = '24h', interval = '1m')\n",
    "    ys = df.iloc[:,0].values\n",
    "    ys1= df.iloc[:,1].values\n",
    "    print(ys)\n",
    "    \n",
    "    if len(ys)>=120:\n",
    "        ys = df.iloc[-120:0].values\n",
    "        ys1 = df.iloc[-120:1].values\n",
    "        \n",
    "        xs=list(range(1, len(ys)+1))\n",
    "        ax1.clear()\n",
    "        ax1.plot(xs,ys)\n",
    "        ax1.plot(xs,ys1)\n",
    "        ax1.plot(df)\n",
    "        \n",
    "        ax1.set_title(stock_ticker)\n",
    "        ax1.legendd(['Actual', Forceast], loc = 'lower right')\n",
    "        \n",
    "       # plt.rcParams[\"animation.html\"] = \"html5\"  \n",
    "        \n",
    "        \n",
    "        return \n",
    "\n",
    "ani = FuncAnimation(plot_comparison(start_idx=400, length=10000, train=False, forecast = True),animate,interval=5)\n",
    "plt.tight_layout()\n",
    "#anim.save()\n",
    "plt.show()\n",
    "\n",
    "\n",
    "    \n"
   ]
  },
  {
   "cell_type": "code",
   "execution_count": null,
   "id": "bf295353",
   "metadata": {},
   "outputs": [],
   "source": [
    "#https://towardsdatascience.com/building-a-comprehensive-set-of-technical-indicators-in-python-for-quantitative-trading-8d98751b5fb\n",
    "#https://www.kaggle.com/code/mycorino/rnn-forex-v2"
   ]
  },
  {
   "cell_type": "code",
   "execution_count": null,
   "id": "5299bbda",
   "metadata": {},
   "outputs": [],
   "source": [
    "def return_pred(start_idx, length=100, train=True):\n",
    "    \"\"\"\n",
    "    Plot the predicted and true output-signals.\n",
    "    \n",
    "    :param start_idx: Start-index for the time-series.\n",
    "    :param length: Sequence-length to process and plot.\n",
    "    :param train: Boolean whether to use training- or test-set.\n",
    "    \"\"\"\n",
    "    \n",
    "    if train:\n",
    "        # Use training-data.\n",
    "        x = x_train_scaled\n",
    "        y_true = y_train\n",
    "    else:\n",
    "        # Use test-data.\n",
    "        x = x_test_scaled\n",
    "        y_true = y_test\n",
    "    \n",
    "    # End-index for the sequences.\n",
    "    end_idx = start_idx + length\n",
    "   \n",
    "    # Select the sequences from the given start-index and\n",
    "    # of the given length.\n",
    "    x = x[start_idx:end_idx]\n",
    "    y_true = y_true[start_idx:end_idx]\n",
    "    \n",
    "    # Input-signals for the model.\n",
    "    x = np.expand_dims(x, axis=0)\n",
    "\n",
    "    # Use the model to predict the output-signals.\n",
    "    y_pred = model.predict(x)\n",
    "    \n",
    "    # The output of the model is between 0 and 1.\n",
    "    # Do an inverse map to get it back to the scale\n",
    "    # of the original data-set.\n",
    "    y_pred_rescaled = y_scaler.inverse_transform(y_pred[0])\n",
    "    y_pred_rescaled[:,0] = np.log(y_pred_rescaled[:,0])/10\n",
    "    y_tc = y_true[:,0]\n",
    "    y_tc = np.log(y_true[:,0])/10\n",
    "    \n",
    "    result = pd.DataFrame({'Close_pred':y_pred_rescaled[:,0],'Close_true':y_tc})\n",
    "    result['rmse'] = np.sqrt((result['Close_pred'] - result['Close_true'])*\n",
    "                              (result['Close_pred'] - result['Close_true']))\n",
    "    \n",
    "    result = result.tail(len(result)-200) #giving at least 50 learning steps to the model\n",
    "    return(result)"
   ]
  },
  {
   "cell_type": "code",
   "execution_count": null,
   "id": "6fa0d795",
   "metadata": {},
   "outputs": [],
   "source": [
    "result = return_pred(start_idx = 0, length=10000, train=True) #should be train = false but get nothing\n",
    "result.head()"
   ]
  },
  {
   "cell_type": "code",
   "execution_count": null,
   "id": "ee5f2d7c",
   "metadata": {},
   "outputs": [],
   "source": [
    "result.describe()"
   ]
  },
  {
   "cell_type": "code",
   "execution_count": null,
   "id": "e9aeba00",
   "metadata": {},
   "outputs": [],
   "source": [
    "rmse = result.describe()['rmse'][1]\n",
    "data_history.append([rmse,loss_test_set,shift_mn,epochs,steps_per_epoch,batch_size,sequence_length])\n",
    "df = pd.DataFrame(data_history,columns=['rmse','trainScore','shift_mn',\n",
    "                                        'epochs','steps_per_epoch','batch_size','sequence_length'])\n",
    "df"
   ]
  },
  {
   "cell_type": "markdown",
   "id": "a2118a15",
   "metadata": {},
   "source": []
  },
  {
   "cell_type": "markdown",
   "id": "13e70ae9",
   "metadata": {},
   "source": []
  },
  {
   "cell_type": "markdown",
   "id": "6f8187fa",
   "metadata": {},
   "source": []
  },
  {
   "cell_type": "code",
   "execution_count": null,
   "id": "6a0d5acd",
   "metadata": {},
   "outputs": [],
   "source": []
  },
  {
   "cell_type": "code",
   "execution_count": null,
   "id": "6b422d39",
   "metadata": {},
   "outputs": [],
   "source": [
    "import numpy as np\n",
    "import matplotlib.pyplot as plt\n",
    "import matplotlib.animation as animation"
   ]
  },
  {
   "cell_type": "code",
   "execution_count": null,
   "id": "e8098665",
   "metadata": {},
   "outputs": [],
   "source": [
    "    length= 100 \n",
    "    start_idx = 0\n",
    "    end_idx = start_idx + length\n",
    "    \n",
    "    \n",
    "    \n",
    "    #xa = x_test_scaled.copy() #if forceast \n",
    "    #or\n",
    "    #xa = x_train_scaled #if train \n",
    "    #y_true = y_train #if train\n",
    "    #or\n",
    "    xa = x_test_scaled # if not train \n",
    "    y_true = y_test  #if not train \n",
    "    \n",
    "    \n",
    "    x = xa[start_idx:end_idx]\n",
    "    \n",
    "    \n",
    "    x = np.expand_dims(x, axis=0)\n",
    "    y_pred = model.predict(x)\n",
    "    y_pred_rescaled = y_scaler.inverse_transform(y_pred[0])\n",
    "    \n",
    "    pred_dict = {i: None for i in target_names} \n",
    "    \n",
    "    fig, ax = plt.subplots()\n",
    "    y_true = y_true[start_idx:end_idx] \n",
    "     \n",
    "    for signal in range(len(target_names)): #if forecast is false turn this on \n",
    "     signal_true = y_true[:, signal]\n",
    "    \n",
    "    for signal in range(len(target_names)):\n",
    "     signal_pred = y_pred_rescaled[:, signal]\n",
    "     pred_dict[target_names[signal]] = signal_pred\n",
    "    fig = plt.figure(figsize=(15,5)) \n",
    "    plt.plot(signal_true, label='true',marker='.')\n",
    "    plt.plot(signal_pred, label='pred')\n",
    "    \n",
    "     # Plot grey box for warmup-period.\n",
    "    p = plt.axvspan(0, warmup_steps, facecolor='black', alpha=0.15)\n",
    "        \n",
    "        # Plot labels etc.\n",
    "    plt.ylabel(target_names[signal])\n",
    "    ani = animation.FuncAnimation(\n",
    "    fig, animate, interval=20, blit=True, save_count=50)\n",
    "\n",
    "    plt.show()\n",
    "        \n",
    "    "
   ]
  },
  {
   "cell_type": "code",
   "execution_count": null,
   "id": "c01e0429",
   "metadata": {},
   "outputs": [],
   "source": []
  },
  {
   "cell_type": "code",
   "execution_count": null,
   "id": "6786e361",
   "metadata": {},
   "outputs": [],
   "source": []
  }
 ],
 "metadata": {
  "kernelspec": {
   "display_name": "Python 3 (ipykernel)",
   "language": "python",
   "name": "python3"
  },
  "language_info": {
   "codemirror_mode": {
    "name": "ipython",
    "version": 3
   },
   "file_extension": ".py",
   "mimetype": "text/x-python",
   "name": "python",
   "nbconvert_exporter": "python",
   "pygments_lexer": "ipython3",
   "version": "3.9.7"
  }
 },
 "nbformat": 4,
 "nbformat_minor": 5
}
